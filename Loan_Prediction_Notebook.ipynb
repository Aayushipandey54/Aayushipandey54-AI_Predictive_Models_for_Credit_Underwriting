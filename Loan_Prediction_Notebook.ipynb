{
 "cells": [
  {
   "cell_type": "markdown",
   "id": "69910685-112e-4567-ad51-58ffa8fc9ec6",
   "metadata": {},
   "source": [
    "<div style=\"color:white;display:fill;border-radius:8px;\n",
    "            background-color:#03112A;font-size:150%;\n",
    "            letter-spacing:1.0px\">\n",
    "    <p style=\"padding: 8px;color:white;\"><b><b><span style='color:#FFFFFF'></span></b> 1. Importing Required Libraries </b></p>\n",
    "</div>"
   ]
  },
  {
   "cell_type": "code",
   "execution_count": null,
   "id": "4bfbe2a5-23c6-46aa-a62d-e06f021dbeaa",
   "metadata": {},
   "outputs": [],
   "source": [
    "import pandas as pd\n",
    "import numpy as np\n",
    "import plotly.io as pio\n",
    "pio.renderers.default = \"browser\" \n",
    "import seaborn as sns\n",
    "import matplotlib.pyplot as plt\n",
    "plt.ioff()\n",
    "from sklearn import preprocessing\n",
    "from sklearn.model_selection import train_test_split\n",
    "from sklearn.metrics import accuracy_score,f1_score,precision_score,recall_score\n",
    "import scipy.stats as stats\n",
    "from sklearn.utils import resample\n",
    "\n",
    "from sklearn.tree import DecisionTreeClassifier\n",
    "from sklearn.ensemble import RandomForestClassifier\n",
    "from sklearn.linear_model import LogisticRegression\n",
    "from sklearn.neighbors import KNeighborsClassifier\n",
    "\n",
    "from sklearn.model_selection import GridSearchCV, RandomizedSearchCV\n",
    "from sklearn.ensemble import VotingClassifier\n"
   ]
  },
  {
   "cell_type": "markdown",
   "id": "8669a446-419f-4e26-99d2-5374503eb65c",
   "metadata": {},
   "source": [
    "<div style=\"color:white;display:fill;border-radius:8px;\n",
    "            background-color:#03112A;font-size:150%;\n",
    "            letter-spacing:1.0px\">\n",
    "    <p style=\"padding: 8px;color:white;\"><b><b><span style='color:#FFFFFF'></span></b> 2. Data Preprocessing-1 </b></p>\n",
    "</div>"
   ]
  },
  {
   "cell_type": "code",
   "execution_count": 4,
   "id": "ed338601-cae6-4116-a611-45e9f1232718",
   "metadata": {},
   "outputs": [],
   "source": [
    "train = pd.read_csv(\"TrainData.csv\")\n",
    "test = pd.read_csv(\"TestData.csv\")"
   ]
  },
  {
   "cell_type": "code",
   "execution_count": 5,
   "id": "8a4ddf62-41c6-4deb-9d48-dc55103e232c",
   "metadata": {},
   "outputs": [
    {
     "name": "stdout",
     "output_type": "stream",
     "text": [
      "<class 'pandas.core.frame.DataFrame'>\n",
      "RangeIndex: 614 entries, 0 to 613\n",
      "Data columns (total 13 columns):\n",
      " #   Column             Non-Null Count  Dtype  \n",
      "---  ------             --------------  -----  \n",
      " 0   Loan_ID            614 non-null    object \n",
      " 1   Gender             601 non-null    object \n",
      " 2   Married            611 non-null    object \n",
      " 3   Dependents         599 non-null    object \n",
      " 4   Education          614 non-null    object \n",
      " 5   Self_Employed      582 non-null    object \n",
      " 6   ApplicantIncome    614 non-null    int64  \n",
      " 7   CoapplicantIncome  614 non-null    float64\n",
      " 8   LoanAmount         592 non-null    float64\n",
      " 9   Loan_Amount_Term   600 non-null    float64\n",
      " 10  Credit_History     564 non-null    float64\n",
      " 11  Property_Area      614 non-null    object \n",
      " 12  Loan_Status        614 non-null    object \n",
      "dtypes: float64(4), int64(1), object(8)\n",
      "memory usage: 62.5+ KB\n"
     ]
    }
   ],
   "source": [
    "train.info()"
   ]
  },
  {
   "cell_type": "code",
   "execution_count": 6,
   "id": "3b9a373c-560a-46d2-9a5c-d2c1fa6043a5",
   "metadata": {},
   "outputs": [
    {
     "data": {
      "text/html": [
       "<div>\n",
       "<style scoped>\n",
       "    .dataframe tbody tr th:only-of-type {\n",
       "        vertical-align: middle;\n",
       "    }\n",
       "\n",
       "    .dataframe tbody tr th {\n",
       "        vertical-align: top;\n",
       "    }\n",
       "\n",
       "    .dataframe thead th {\n",
       "        text-align: right;\n",
       "    }\n",
       "</style>\n",
       "<table border=\"1\" class=\"dataframe\">\n",
       "  <thead>\n",
       "    <tr style=\"text-align: right;\">\n",
       "      <th></th>\n",
       "      <th>ApplicantIncome</th>\n",
       "      <th>CoapplicantIncome</th>\n",
       "      <th>LoanAmount</th>\n",
       "      <th>Loan_Amount_Term</th>\n",
       "      <th>Credit_History</th>\n",
       "    </tr>\n",
       "  </thead>\n",
       "  <tbody>\n",
       "    <tr>\n",
       "      <th>count</th>\n",
       "      <td>614.000000</td>\n",
       "      <td>614.000000</td>\n",
       "      <td>592.000000</td>\n",
       "      <td>600.00000</td>\n",
       "      <td>564.000000</td>\n",
       "    </tr>\n",
       "    <tr>\n",
       "      <th>mean</th>\n",
       "      <td>5403.459283</td>\n",
       "      <td>1621.245798</td>\n",
       "      <td>146.412162</td>\n",
       "      <td>342.00000</td>\n",
       "      <td>0.842199</td>\n",
       "    </tr>\n",
       "    <tr>\n",
       "      <th>std</th>\n",
       "      <td>6109.041673</td>\n",
       "      <td>2926.248369</td>\n",
       "      <td>85.587325</td>\n",
       "      <td>65.12041</td>\n",
       "      <td>0.364878</td>\n",
       "    </tr>\n",
       "    <tr>\n",
       "      <th>min</th>\n",
       "      <td>150.000000</td>\n",
       "      <td>0.000000</td>\n",
       "      <td>9.000000</td>\n",
       "      <td>12.00000</td>\n",
       "      <td>0.000000</td>\n",
       "    </tr>\n",
       "    <tr>\n",
       "      <th>25%</th>\n",
       "      <td>2877.500000</td>\n",
       "      <td>0.000000</td>\n",
       "      <td>100.000000</td>\n",
       "      <td>360.00000</td>\n",
       "      <td>1.000000</td>\n",
       "    </tr>\n",
       "    <tr>\n",
       "      <th>50%</th>\n",
       "      <td>3812.500000</td>\n",
       "      <td>1188.500000</td>\n",
       "      <td>128.000000</td>\n",
       "      <td>360.00000</td>\n",
       "      <td>1.000000</td>\n",
       "    </tr>\n",
       "    <tr>\n",
       "      <th>75%</th>\n",
       "      <td>5795.000000</td>\n",
       "      <td>2297.250000</td>\n",
       "      <td>168.000000</td>\n",
       "      <td>360.00000</td>\n",
       "      <td>1.000000</td>\n",
       "    </tr>\n",
       "    <tr>\n",
       "      <th>max</th>\n",
       "      <td>81000.000000</td>\n",
       "      <td>41667.000000</td>\n",
       "      <td>700.000000</td>\n",
       "      <td>480.00000</td>\n",
       "      <td>1.000000</td>\n",
       "    </tr>\n",
       "  </tbody>\n",
       "</table>\n",
       "</div>"
      ],
      "text/plain": [
       "       ApplicantIncome  CoapplicantIncome  LoanAmount  Loan_Amount_Term   \n",
       "count       614.000000         614.000000  592.000000         600.00000  \\\n",
       "mean       5403.459283        1621.245798  146.412162         342.00000   \n",
       "std        6109.041673        2926.248369   85.587325          65.12041   \n",
       "min         150.000000           0.000000    9.000000          12.00000   \n",
       "25%        2877.500000           0.000000  100.000000         360.00000   \n",
       "50%        3812.500000        1188.500000  128.000000         360.00000   \n",
       "75%        5795.000000        2297.250000  168.000000         360.00000   \n",
       "max       81000.000000       41667.000000  700.000000         480.00000   \n",
       "\n",
       "       Credit_History  \n",
       "count      564.000000  \n",
       "mean         0.842199  \n",
       "std          0.364878  \n",
       "min          0.000000  \n",
       "25%          1.000000  \n",
       "50%          1.000000  \n",
       "75%          1.000000  \n",
       "max          1.000000  "
      ]
     },
     "execution_count": 6,
     "metadata": {},
     "output_type": "execute_result"
    }
   ],
   "source": [
    "train.describe()"
   ]
  },
  {
   "cell_type": "code",
   "execution_count": null,
   "id": "bad1bcab-dcb0-41c5-aec2-7a3bb69b6b83",
   "metadata": {},
   "outputs": [
    {
     "name": "stdout",
     "output_type": "stream",
     "text": [
      "<class 'pandas.core.frame.DataFrame'>\n",
      "RangeIndex: 367 entries, 0 to 366\n",
      "Data columns (total 12 columns):\n",
      " #   Column             Non-Null Count  Dtype  \n",
      "---  ------             --------------  -----  \n",
      " 0   Loan_ID            367 non-null    object \n",
      " 1   Gender             356 non-null    object \n",
      " 2   Married            367 non-null    object \n",
      " 3   Dependents         357 non-null    object \n",
      " 4   Education          367 non-null    object \n",
      " 5   Self_Employed      344 non-null    object \n",
      " 6   ApplicantIncome    367 non-null    int64  \n",
      " 7   CoapplicantIncome  367 non-null    int64  \n",
      " 8   LoanAmount         362 non-null    float64\n",
      " 9   Loan_Amount_Term   361 non-null    float64\n",
      " 10  Credit_History     338 non-null    float64\n",
      " 11  Property_Area      367 non-null    object \n",
      "dtypes: float64(3), int64(2), object(7)\n",
      "memory usage: 34.5+ KB\n"
     ]
    }
   ],
   "source": [
    "test.info()"
   ]
  },
  {
   "cell_type": "code",
   "execution_count": 8,
   "id": "0160b618-0460-4ed0-b387-01902a4a2632",
   "metadata": {},
   "outputs": [],
   "source": [
    "def drop_ID(x):\n",
    "    x.drop(columns=[\"Loan_ID\"],inplace=True)\n",
    "drop_ID(train)\n",
    "drop_ID(test)"
   ]
  },
  {
   "cell_type": "code",
   "execution_count": 9,
   "id": "cc92b2a6-8545-4bcb-8464-f3f8721756b9",
   "metadata": {},
   "outputs": [],
   "source": [
    "def check_missing(x):\n",
    "    print(x.isnull().sum()/len(x)*100)\n",
    "    print(\" \")"
   ]
  },
  {
   "cell_type": "code",
   "execution_count": null,
   "id": "19ead563-75de-4b0b-9473-502088aa81a3",
   "metadata": {},
   "outputs": [
    {
     "name": "stdout",
     "output_type": "stream",
     "text": [
      "Gender               2.117264\n",
      "Married              0.488599\n",
      "Dependents           2.442997\n",
      "Education            0.000000\n",
      "Self_Employed        5.211726\n",
      "ApplicantIncome      0.000000\n",
      "CoapplicantIncome    0.000000\n",
      "LoanAmount           3.583062\n",
      "Loan_Amount_Term     2.280130\n",
      "Credit_History       8.143322\n",
      "Property_Area        0.000000\n",
      "Loan_Status          0.000000\n",
      "dtype: float64\n",
      " \n",
      "Gender               2.997275\n",
      "Married              0.000000\n",
      "Dependents           2.724796\n",
      "Education            0.000000\n",
      "Self_Employed        6.267030\n",
      "ApplicantIncome      0.000000\n",
      "CoapplicantIncome    0.000000\n",
      "LoanAmount           1.362398\n",
      "Loan_Amount_Term     1.634877\n",
      "Credit_History       7.901907\n",
      "Property_Area        0.000000\n",
      "dtype: float64\n",
      " \n"
     ]
    }
   ],
   "source": [
    "check_missing(train)\n",
    "check_missing(test)"
   ]
  },
  {
   "cell_type": "code",
   "execution_count": 11,
   "id": "23ea95f8-f385-4b97-b52e-61b6d63ba9f0",
   "metadata": {},
   "outputs": [
    {
     "name": "stdout",
     "output_type": "stream",
     "text": [
      "Gender               0.0\n",
      "Married              0.0\n",
      "Dependents           0.0\n",
      "Education            0.0\n",
      "Self_Employed        0.0\n",
      "ApplicantIncome      0.0\n",
      "CoapplicantIncome    0.0\n",
      "LoanAmount           0.0\n",
      "Loan_Amount_Term     0.0\n",
      "Credit_History       0.0\n",
      "Property_Area        0.0\n",
      "Loan_Status          0.0\n",
      "dtype: float64\n",
      " \n",
      "Gender               0.0\n",
      "Married              0.0\n",
      "Dependents           0.0\n",
      "Education            0.0\n",
      "Self_Employed        0.0\n",
      "ApplicantIncome      0.0\n",
      "CoapplicantIncome    0.0\n",
      "LoanAmount           0.0\n",
      "Loan_Amount_Term     0.0\n",
      "Credit_History       0.0\n",
      "Property_Area        0.0\n",
      "dtype: float64\n",
      " \n"
     ]
    }
   ],
   "source": [
    "def fill_missing(x):\n",
    "    x[\"Credit_History\"].fillna(0,inplace=True)\n",
    "    x[\"Self_Employed\"].fillna(\"No\",inplace=True)\n",
    "    x[\"LoanAmount\"].fillna(x[\"LoanAmount\"].mean(),inplace=True)\n",
    "    x[\"Loan_Amount_Term\"].fillna(0,inplace=True)\n",
    "    x[\"Gender\"].fillna('Other',inplace=True)\n",
    "    x[\"Married\"].fillna('No',inplace=True)\n",
    "    x[\"Dependents\"].fillna(\"Other\",inplace=True)\n",
    "    \n",
    "fill_missing(train)\n",
    "fill_missing(test)\n",
    "\n",
    "check_missing(train)\n",
    "check_missing(test)"
   ]
  },
  {
   "cell_type": "markdown",
   "id": "9999e9de-6056-4b88-af54-9b75ee8b367e",
   "metadata": {},
   "source": [
    "<div style=\"color:white;display:fill;border-radius:8px;\n",
    "            background-color:#03112A;font-size:150%;\n",
    "            letter-spacing:1.0px\">\n",
    "    <p style=\"padding: 8px;color:white;\"><b><b><span style='color:#FFFFFF'></span></b> 2. Data Preprocessing-2 </b></p>\n",
    "</div>"
   ]
  },
  {
   "cell_type": "code",
   "execution_count": 12,
   "id": "367af1d8-9e5c-4269-8241-6a098b13d534",
   "metadata": {},
   "outputs": [],
   "source": [
    "label_encoder = preprocessing.LabelEncoder()"
   ]
  },
  {
   "cell_type": "code",
   "execution_count": 14,
   "id": "61e586a5-3bc0-4f25-8a8a-f52d71c716a7",
   "metadata": {},
   "outputs": [
    {
     "name": "stdout",
     "output_type": "stream",
     "text": [
      "Gender  :  ['Male' 'Female' 'Other']\n",
      "Married  :  ['No' 'Yes']\n",
      "Dependents  :  ['0' '1' '2' '3+' 'Other']\n",
      "Education  :  ['Graduate' 'Not Graduate']\n",
      "Self_Employed  :  ['No' 'Yes']\n",
      "Property_Area  :  ['Urban' 'Rural' 'Semiurban']\n",
      "Credit_History  :  [1. 0.]\n",
      "Loan_Status  :  ['Y' 'N']\n",
      " \n",
      "Gender  :  ['Male' 'Female' 'Other']\n",
      "Married  :  ['Yes' 'No']\n",
      "Dependents  :  ['0' '1' '2' '3+' 'Other']\n",
      "Education  :  ['Graduate' 'Not Graduate']\n",
      "Self_Employed  :  ['No' 'Yes']\n",
      "Property_Area  :  ['Urban' 'Semiurban' 'Rural']\n",
      "Credit_History  :  [1. 0.]\n"
     ]
    }
   ],
   "source": [
    "def uq_vals(x):\n",
    "    cat_columns = ['Gender','Married','Dependents','Education','Self_Employed','Property_Area','Credit_History']\n",
    "    for column in cat_columns:\n",
    "        print(column,\" : \",x[column].unique())\n",
    "        \n",
    "uq_vals(train)\n",
    "print(\"Loan_Status\",\" : \",train[\"Loan_Status\"].unique())\n",
    "print(\" \")\n",
    "uq_vals(test)"
   ]
  },
  {
   "cell_type": "code",
   "execution_count": 15,
   "id": "48a4c665-9c3e-4b29-9af0-9fe5954b9a87",
   "metadata": {},
   "outputs": [
    {
     "name": "stdout",
     "output_type": "stream",
     "text": [
      "Gender  :  [1 0 2]\n",
      "Married  :  [0 1]\n",
      "Dependents  :  [0 1 2 3 4]\n",
      "Education  :  [0 1]\n",
      "Self_Employed  :  [0 1]\n",
      "Property_Area  :  [2 0 1]\n",
      "Credit_History  :  [1 0]\n",
      "Loan_Status  :  [1 0]\n",
      " \n",
      "Gender  :  [1 0 2]\n",
      "Married  :  [1 0]\n",
      "Dependents  :  [0 1 2 3 4]\n",
      "Education  :  [0 1]\n",
      "Self_Employed  :  [0 1]\n",
      "Property_Area  :  [2 1 0]\n",
      "Credit_History  :  [1 0]\n"
     ]
    }
   ],
   "source": [
    "def enc(x):\n",
    "    cat_columns = ['Gender','Married','Dependents','Education','Self_Employed','Property_Area','Credit_History']\n",
    "    for column in cat_columns :\n",
    "        x[column] = label_encoder.fit_transform(x[column])\n",
    "\n",
    "train[\"Loan_Status\"] = label_encoder.fit_transform(train[\"Loan_Status\"])\n",
    "\n",
    "\n",
    "enc(train)\n",
    "enc(test)\n",
    "\n",
    "uq_vals(train)\n",
    "print(\"Loan_Status\",\" : \",train[\"Loan_Status\"].unique())\n",
    "print(\" \")\n",
    "uq_vals(test)"
   ]
  },
  {
   "cell_type": "markdown",
   "id": "3cbc04fd-b98e-40a1-b62b-cff21eedc306",
   "metadata": {},
   "source": [
    "<div style=\"color:white;display:fill;border-radius:8px;\n",
    "            background-color:#03112A;font-size:150%;\n",
    "            letter-spacing:1.0px\">\n",
    "    <p style=\"padding: 8px;color:white;\"><b><b><span style='color:#FFFFFF'></span></b> 3. Outlier Detection and Removal </b></p>\n",
    "</div>"
   ]
  },
  {
   "cell_type": "code",
   "execution_count": 19,
   "id": "24cfbc83-9237-4e6d-9be8-570e9f61a89e",
   "metadata": {},
   "outputs": [],
   "source": [
    "import plotly.express as px\n",
    "import plotly.io as pio\n",
    "\n",
    "def plot_outliers(x):\n",
    "    numeric_cols = x.select_dtypes(include=['number'])\n",
    "    fig = px.box(numeric_cols, title=\"Boxplots for Numeric Columns (Outlier Detection)\")\n",
    "    pio.renderers.default = \"browser\"  # Optional for non-Jupyter environments\n",
    "    fig.show()\n",
    "\n",
    "plot_outliers(train)\n"
   ]
  },
  {
   "cell_type": "code",
   "execution_count": 21,
   "id": "100543c5-1d7a-4571-932f-3c76d5c954fd",
   "metadata": {},
   "outputs": [],
   "source": [
    "numeric_cols = train.select_dtypes(include=['number'])\n",
    "z = np.abs(stats.zscore(train))\n",
    "train = train[(z < 3).all(axis=1)]\n",
    "plot_outliers(train)"
   ]
  },
  {
   "cell_type": "markdown",
   "id": "e8369e83-3360-43ee-af8c-804740891615",
   "metadata": {},
   "source": [
    "<div style=\"color:white;display:fill;border-radius:8px;\n",
    "            background-color:#03112A;font-size:150%;\n",
    "            letter-spacing:1.0px\">\n",
    "    <p style=\"padding: 8px;color:white;\"><b><b><span style='color:#FFFFFF'></span></b> 4. Balanced Class Data </b></p>\n",
    "</div>"
   ]
  },
  {
   "cell_type": "code",
   "execution_count": 25,
   "id": "b27aca89-9dc0-4537-b3d8-0cbff92fe6ca",
   "metadata": {},
   "outputs": [
    {
     "data": {
      "image/png": "[encoded data removed]",
      "text/plain": [
       "<Figure size 640x480 with 1 Axes>"
      ]
     },
     "metadata": {},
     "output_type": "display_data"
    }
   ],
   "source": [
    "import seaborn as sns\n",
    "sns.countplot(data=train, x='Loan_Status')\n",
    "plt.show()\n"
   ]
  },
  {
   "cell_type": "code",
   "execution_count": 26,
   "id": "6696fe4c-3822-4da1-868a-07435c9b7b69",
   "metadata": {},
   "outputs": [],
   "source": [
    "df_majority = train[(train['Loan_Status'] == 1)]\n",
    "df_minority = train[(train['Loan_Status'] == 0)]\n",
    "\n",
    "df_minority_upsampled = resample(df_minority, replace=True, n_samples=398, random_state=0)\n",
    "train = pd.concat([df_minority_upsampled, df_majority])"
   ]
  },
  {
   "cell_type": "code",
   "execution_count": 28,
   "id": "492751a1-dbd0-4563-920c-f5fc65034fcf",
   "metadata": {},
   "outputs": [
    {
     "data": {
      "image/png": "[encoded data removed]",
      "text/plain": [
       "<Figure size 640x480 with 1 Axes>"
      ]
     },
     "metadata": {},
     "output_type": "display_data"
    }
   ],
   "source": [
    "import seaborn as sns\n",
    "sns.countplot(data=train, x='Loan_Status')\n",
    "plt.show()\n"
   ]
  },
  {
   "cell_type": "markdown",
   "id": "ea073e1d-5254-4acb-a899-821faa56b4c2",
   "metadata": {},
   "source": [
    "<div style=\"color:white;display:fill;border-radius:8px;\n",
    "            background-color:#03112A;font-size:150%;\n",
    "            letter-spacing:1.0px\">\n",
    "    <p style=\"padding: 8px;color:white;\"><b><b><span style='color:#FFFFFF'></span></b> 5. Test Train Split </b></p>\n",
    "</div>"
   ]
  },
  {
   "cell_type": "code",
   "execution_count": 30,
   "id": "ade9ebf3-b71b-4cf0-8382-835bd9d8b411",
   "metadata": {},
   "outputs": [],
   "source": [
    "X = train.drop('Loan_Status', axis=1)\n",
    "y = train['Loan_Status']"
   ]
  },
  {
   "cell_type": "code",
   "execution_count": 31,
   "id": "24c29f81-30fb-4baf-bce0-e04c5c45561d",
   "metadata": {},
   "outputs": [],
   "source": [
    "X_train,X_test,y_train,y_test = train_test_split(X,y,test_size=0.03,random_state=0)"
   ]
  },
  {
   "cell_type": "code",
   "execution_count": 32,
   "id": "90a6d5d0-98f2-4887-88c5-e35e4111bf32",
   "metadata": {},
   "outputs": [
    {
     "name": "stdout",
     "output_type": "stream",
     "text": [
      "X_train :  (717, 11)\n",
      "X_test :  (23, 11)\n",
      "y_train :  (717,)\n",
      "y_test :  (23,)\n"
     ]
    }
   ],
   "source": [
    "print(\"X_train : \",X_train.shape)\n",
    "print(\"X_test : \",X_test.shape)\n",
    "print(\"y_train : \",y_train.shape)\n",
    "print(\"y_test : \",y_test.shape)"
   ]
  },
  {
   "cell_type": "markdown",
   "id": "e09e2377-c5cd-4bbf-a52c-ca351ce7e5a1",
   "metadata": {},
   "source": [
    "<div style=\"color:white;display:fill;border-radius:8px;\n",
    "            background-color:#03112A;font-size:150%;\n",
    "            letter-spacing:1.0px\">\n",
    "    <p style=\"padding: 8px;color:white;\"><b><b><span style='color:#FFFFFF'></span></b> 6. Building Models </b></p>\n",
    "</div>"
   ]
  },
  {
   "cell_type": "code",
   "execution_count": 33,
   "id": "9514e466-dbca-4433-aa53-b2123aa9ec8c",
   "metadata": {},
   "outputs": [
    {
     "name": "stdout",
     "output_type": "stream",
     "text": [
      "Decision Tree Accuracy: 86.96%\n",
      "Random Forest Accuracy: 91.3%\n",
      "Logistic Regression Accuracy: 65.22%\n",
      "KNN Accuracy: 82.61%\n"
     ]
    }
   ],
   "source": [
    "classifiers = {\n",
    "    'Decision Tree': DecisionTreeClassifier(random_state=0),\n",
    "    'Random Forest': RandomForestClassifier(random_state=2),\n",
    "    'Logistic Regression': LogisticRegression(random_state=42,solver='liblinear'),\n",
    "    'KNN': KNeighborsClassifier(n_neighbors=3)\n",
    "}\n",
    "\n",
    "for name, clf in classifiers.items():\n",
    "    clf.fit(X_train, y_train)\n",
    "    y_pred = clf.predict(X_test)\n",
    "    accuracy = round(accuracy_score(y_test, y_pred) * 100, 2)\n",
    "    print(f\"{name} Accuracy: {accuracy}%\")"
   ]
  },
  {
   "cell_type": "code",
   "execution_count": 34,
   "id": "6216e7cb-e15d-46e5-9e1a-ab0c164e7706",
   "metadata": {},
   "outputs": [],
   "source": [
    "# param_grid = {\n",
    "#    'bootstrap': [False,True],\n",
    "#    'max_depth': [5,8,10, 20],\n",
    "#    'max_features': [3, 4, 5, None],\n",
    "#    'min_samples_split': [2, 10, 12],\n",
    "#    'n_estimators': [100, 200, 300]\n",
    "# }\n",
    "# rfc = RandomForestClassifier(random_state=2) \n",
    "# clf = GridSearchCV(estimator = rfc, param_grid = param_grid, cv = 5, n_jobs = -1, verbose = 1)\n",
    "\n",
    "# clf.fit(X_train,y_train)\n",
    "# y_pred = clf.predict(X_test)\n",
    "# print(\"Accuracy: \",accuracy_score(y_test,y_pred))\n",
    "# print(clf.best_params_)\n",
    "# print(clf.best_estimator_)\n",
    "\n",
    "# # Output:\n",
    "# # Fitting 5 folds for each of 288 candidates, totalling 1440 fits\n",
    "# # Accuracy:  0.8679245283018868\n",
    "# # {'bootstrap': True, 'max_depth': 10, 'max_features': 5, 'min_samples_split': 2, 'n_estimators': 300}\n",
    "# # RandomForestClassifier(max_depth=10, max_features=5, n_estimators=300,\n",
    "# #                        random_state=2)"
   ]
  },
  {
   "cell_type": "code",
   "execution_count": 35,
   "id": "e96624ab-1a8b-48be-bb48-5f7c21b3c6d6",
   "metadata": {},
   "outputs": [],
   "source": [
    "dtree = DecisionTreeClassifier(random_state=0)\n",
    "rfc = RandomForestClassifier(random_state=2)\n",
    "lr = LogisticRegression(random_state=42,solver='liblinear')\n",
    "knn = KNeighborsClassifier(n_neighbors=3)"
   ]
  },
  {
   "cell_type": "markdown",
   "id": "da39cad9-888b-4568-b7c6-c363b8704831",
   "metadata": {},
   "source": [
    "<div style=\"color:white;display:fill;border-radius:8px;\n",
    "            background-color:#03112A;font-size:150%;\n",
    "            letter-spacing:1.0px\">\n",
    "    <p style=\"padding: 8px;color:white;\"><b><b><span style='color:#FFFFFF'></span></b> 7. Building a Ensemble Voting Classifier </b></p>\n",
    "</div>"
   ]
  },
  {
   "cell_type": "code",
   "execution_count": 36,
   "id": "0bf537f0-422a-4de4-8c91-d3518a9f18a6",
   "metadata": {},
   "outputs": [
    {
     "data": {
      "text/html": [
       "<style>#sk-container-id-1 {color: black;background-color: white;}#sk-container-id-1 pre{padding: 0;}#sk-container-id-1 div.sk-toggleable {background-color: white;}#sk-container-id-1 label.sk-toggleable__label {cursor: pointer;display: block;width: 100%;margin-bottom: 0;padding: 0.3em;box-sizing: border-box;text-align: center;}#sk-container-id-1 label.sk-toggleable__label-arrow:before {content: \"▸\";float: left;margin-right: 0.25em;color: #696969;}#sk-container-id-1 label.sk-toggleable__label-arrow:hover:before {color: black;}#sk-container-id-1 div.sk-estimator:hover label.sk-toggleable__label-arrow:before {color: black;}#sk-container-id-1 div.sk-toggleable__content {max-height: 0;max-width: 0;overflow: hidden;text-align: left;background-color: #f0f8ff;}#sk-container-id-1 div.sk-toggleable__content pre {margin: 0.2em;color: black;border-radius: 0.25em;background-color: #f0f8ff;}#sk-container-id-1 input.sk-toggleable__control:checked~div.sk-toggleable__content {max-height: 200px;max-width: 100%;overflow: auto;}#sk-container-id-1 input.sk-toggleable__control:checked~label.sk-toggleable__label-arrow:before {content: \"▾\";}#sk-container-id-1 div.sk-estimator input.sk-toggleable__control:checked~label.sk-toggleable__label {background-color: #d4ebff;}#sk-container-id-1 div.sk-label input.sk-toggleable__control:checked~label.sk-toggleable__label {background-color: #d4ebff;}#sk-container-id-1 input.sk-hidden--visually {border: 0;clip: rect(1px 1px 1px 1px);clip: rect(1px, 1px, 1px, 1px);height: 1px;margin: -1px;overflow: hidden;padding: 0;position: absolute;width: 1px;}#sk-container-id-1 div.sk-estimator {font-family: monospace;background-color: #f0f8ff;border: 1px dotted black;border-radius: 0.25em;box-sizing: border-box;margin-bottom: 0.5em;}#sk-container-id-1 div.sk-estimator:hover {background-color: #d4ebff;}#sk-container-id-1 div.sk-parallel-item::after {content: \"\";width: 100%;border-bottom: 1px solid gray;flex-grow: 1;}#sk-container-id-1 div.sk-label:hover label.sk-toggleable__label {background-color: #d4ebff;}#sk-container-id-1 div.sk-serial::before {content: \"\";position: absolute;border-left: 1px solid gray;box-sizing: border-box;top: 0;bottom: 0;left: 50%;z-index: 0;}#sk-container-id-1 div.sk-serial {display: flex;flex-direction: column;align-items: center;background-color: white;padding-right: 0.2em;padding-left: 0.2em;position: relative;}#sk-container-id-1 div.sk-item {position: relative;z-index: 1;}#sk-container-id-1 div.sk-parallel {display: flex;align-items: stretch;justify-content: center;background-color: white;position: relative;}#sk-container-id-1 div.sk-item::before, #sk-container-id-1 div.sk-parallel-item::before {content: \"\";position: absolute;border-left: 1px solid gray;box-sizing: border-box;top: 0;bottom: 0;left: 50%;z-index: -1;}#sk-container-id-1 div.sk-parallel-item {display: flex;flex-direction: column;z-index: 1;position: relative;background-color: white;}#sk-container-id-1 div.sk-parallel-item:first-child::after {align-self: flex-end;width: 50%;}#sk-container-id-1 div.sk-parallel-item:last-child::after {align-self: flex-start;width: 50%;}#sk-container-id-1 div.sk-parallel-item:only-child::after {width: 0;}#sk-container-id-1 div.sk-dashed-wrapped {border: 1px dashed gray;margin: 0 0.4em 0.5em 0.4em;box-sizing: border-box;padding-bottom: 0.4em;background-color: white;}#sk-container-id-1 div.sk-label label {font-family: monospace;font-weight: bold;display: inline-block;line-height: 1.2em;}#sk-container-id-1 div.sk-label-container {text-align: center;}#sk-container-id-1 div.sk-container {/* jupyter's `normalize.less` sets `[hidden] { display: none; }` but bootstrap.min.css set `[hidden] { display: none !important; }` so we also need the `!important` here to be able to override the default hidden behavior on the sphinx rendered scikit-learn.org. See: https://github.com/scikit-learn/scikit-learn/issues/21755 */display: inline-block !important;position: relative;}#sk-container-id-1 div.sk-text-repr-fallback {display: none;}</style><div id=\"sk-container-id-1\" class=\"sk-top-container\"><div class=\"sk-text-repr-fallback\"><pre>LogisticRegression(random_state=42, solver=&#x27;liblinear&#x27;)</pre><b>In a Jupyter environment, please rerun this cell to show the HTML representation or trust the notebook. <br />On GitHub, the HTML representation is unable to render, please try loading this page with nbviewer.org.</b></div><div class=\"sk-container\" hidden><div class=\"sk-item\"><div class=\"sk-estimator sk-toggleable\"><input class=\"sk-toggleable__control sk-hidden--visually\" id=\"sk-estimator-id-1\" type=\"checkbox\" checked><label for=\"sk-estimator-id-1\" class=\"sk-toggleable__label sk-toggleable__label-arrow\">LogisticRegression</label><div class=\"sk-toggleable__content\"><pre>LogisticRegression(random_state=42, solver=&#x27;liblinear&#x27;)</pre></div></div></div></div></div>"
      ],
      "text/plain": [
       "LogisticRegression(random_state=42, solver='liblinear')"
      ]
     },
     "execution_count": 36,
     "metadata": {},
     "output_type": "execute_result"
    }
   ],
   "source": [
    "dtree.fit(X_train,y_train)\n",
    "rfc.fit(X_train,y_train)\n",
    "lr.fit(X_train,y_train)\n",
    "#knn.fit(X_train,y_train)"
   ]
  },
  {
   "cell_type": "code",
   "execution_count": 37,
   "id": "6d890b6d-1c3a-4b19-b854-174c15ebad04",
   "metadata": {},
   "outputs": [
    {
     "name": "stdout",
     "output_type": "stream",
     "text": [
      "Accuracy : 86.96 %\n"
     ]
    }
   ],
   "source": [
    "ens1 = VotingClassifier(estimators=[('rfc', rfc), ('lr', lr), ('dtree',dtree)], voting='soft')\n",
    "ens1.fit(X_train, y_train)\n",
    "\n",
    "y_pred = ens1.predict(X_test)\n",
    "print(\"Accuracy :\",round(accuracy_score(y_test,y_pred)*100,2),\"%\")"
   ]
  },
  {
   "cell_type": "code",
   "execution_count": 38,
   "id": "360cfcc4-0d3f-4187-8060-08eabcacc973",
   "metadata": {},
   "outputs": [
    {
     "name": "stdout",
     "output_type": "stream",
     "text": [
      "Accuracy : 91.3 %\n"
     ]
    }
   ],
   "source": [
    "ens2 = VotingClassifier(estimators=[('rfc', rfc), ('lr', lr), ('dtree',dtree)], voting='hard')\n",
    "ens2.fit(X_train, y_train)\n",
    "\n",
    "y_pred = ens2.predict(X_test)\n",
    "print(\"Accuracy :\",round(accuracy_score(y_test,y_pred)*100,2),\"%\")"
   ]
  },
  {
   "cell_type": "markdown",
   "id": "f60e27e8-4434-49d6-84e4-c1c094be3e93",
   "metadata": {},
   "source": [
    "<div style=\"color:white;display:fill;border-radius:8px;\n",
    "            background-color:#03112A;font-size:150%;\n",
    "            letter-spacing:1.0px\">\n",
    "    <p style=\"padding: 8px;color:white;\"><b><b><span style='color:#FFFFFF'></span></b> 8. Predicting Test Data </b></p>\n",
    "</div>"
   ]
  },
  {
   "cell_type": "code",
   "execution_count": 39,
   "id": "2a420575-22c0-494f-94e9-7f77e2a5c5ef",
   "metadata": {},
   "outputs": [
    {
     "data": {
      "text/html": [
       "<div>\n",
       "<style scoped>\n",
       "    .dataframe tbody tr th:only-of-type {\n",
       "        vertical-align: middle;\n",
       "    }\n",
       "\n",
       "    .dataframe tbody tr th {\n",
       "        vertical-align: top;\n",
       "    }\n",
       "\n",
       "    .dataframe thead th {\n",
       "        text-align: right;\n",
       "    }\n",
       "</style>\n",
       "<table border=\"1\" class=\"dataframe\">\n",
       "  <thead>\n",
       "    <tr style=\"text-align: right;\">\n",
       "      <th></th>\n",
       "      <th>0</th>\n",
       "    </tr>\n",
       "  </thead>\n",
       "  <tbody>\n",
       "    <tr>\n",
       "      <th>0</th>\n",
       "      <td>1</td>\n",
       "    </tr>\n",
       "    <tr>\n",
       "      <th>1</th>\n",
       "      <td>1</td>\n",
       "    </tr>\n",
       "    <tr>\n",
       "      <th>2</th>\n",
       "      <td>1</td>\n",
       "    </tr>\n",
       "    <tr>\n",
       "      <th>3</th>\n",
       "      <td>0</td>\n",
       "    </tr>\n",
       "    <tr>\n",
       "      <th>4</th>\n",
       "      <td>0</td>\n",
       "    </tr>\n",
       "  </tbody>\n",
       "</table>\n",
       "</div>"
      ],
      "text/plain": [
       "   0\n",
       "0  1\n",
       "1  1\n",
       "2  1\n",
       "3  0\n",
       "4  0"
      ]
     },
     "execution_count": 39,
     "metadata": {},
     "output_type": "execute_result"
    }
   ],
   "source": [
    "prediction = ens2.predict(test)\n",
    "prediction = pd.DataFrame(data=prediction)\n",
    "prediction.head()"
   ]
  },
  {
   "cell_type": "code",
   "execution_count": 40,
   "id": "a2636e9a-6e31-4ecc-bc20-40f75e13bad5",
   "metadata": {},
   "outputs": [
    {
     "data": {
      "text/html": [
       "<div>\n",
       "<style scoped>\n",
       "    .dataframe tbody tr th:only-of-type {\n",
       "        vertical-align: middle;\n",
       "    }\n",
       "\n",
       "    .dataframe tbody tr th {\n",
       "        vertical-align: top;\n",
       "    }\n",
       "\n",
       "    .dataframe thead th {\n",
       "        text-align: right;\n",
       "    }\n",
       "</style>\n",
       "<table border=\"1\" class=\"dataframe\">\n",
       "  <thead>\n",
       "    <tr style=\"text-align: right;\">\n",
       "      <th></th>\n",
       "      <th>Loan_ID</th>\n",
       "      <th>Loan_Status</th>\n",
       "    </tr>\n",
       "  </thead>\n",
       "  <tbody>\n",
       "    <tr>\n",
       "      <th>0</th>\n",
       "      <td>LP001015</td>\n",
       "      <td>1</td>\n",
       "    </tr>\n",
       "    <tr>\n",
       "      <th>1</th>\n",
       "      <td>LP001022</td>\n",
       "      <td>1</td>\n",
       "    </tr>\n",
       "    <tr>\n",
       "      <th>2</th>\n",
       "      <td>LP001031</td>\n",
       "      <td>1</td>\n",
       "    </tr>\n",
       "    <tr>\n",
       "      <th>3</th>\n",
       "      <td>LP001035</td>\n",
       "      <td>0</td>\n",
       "    </tr>\n",
       "    <tr>\n",
       "      <th>4</th>\n",
       "      <td>LP001051</td>\n",
       "      <td>0</td>\n",
       "    </tr>\n",
       "  </tbody>\n",
       "</table>\n",
       "</div>"
      ],
      "text/plain": [
       "    Loan_ID  Loan_Status\n",
       "0  LP001015            1\n",
       "1  LP001022            1\n",
       "2  LP001031            1\n",
       "3  LP001035            0\n",
       "4  LP001051            0"
      ]
     },
     "execution_count": 40,
     "metadata": {},
     "output_type": "execute_result"
    }
   ],
   "source": [
    "result = pd.DataFrame(data=pd.read_csv(\"TestData.csv\")[\"Loan_ID\"])\n",
    "result[\"Loan_Status\"] = prediction\n",
    "result.head()"
   ]
  },
  {
   "cell_type": "code",
   "execution_count": 41,
   "id": "624bf98e-115a-41a9-8c55-d4997c6298ea",
   "metadata": {},
   "outputs": [
    {
     "data": {
      "text/html": [
       "<div>\n",
       "<style scoped>\n",
       "    .dataframe tbody tr th:only-of-type {\n",
       "        vertical-align: middle;\n",
       "    }\n",
       "\n",
       "    .dataframe tbody tr th {\n",
       "        vertical-align: top;\n",
       "    }\n",
       "\n",
       "    .dataframe thead th {\n",
       "        text-align: right;\n",
       "    }\n",
       "</style>\n",
       "<table border=\"1\" class=\"dataframe\">\n",
       "  <thead>\n",
       "    <tr style=\"text-align: right;\">\n",
       "      <th></th>\n",
       "      <th>Loan_ID</th>\n",
       "      <th>Loan_Status</th>\n",
       "    </tr>\n",
       "  </thead>\n",
       "  <tbody>\n",
       "    <tr>\n",
       "      <th>0</th>\n",
       "      <td>LP001015</td>\n",
       "      <td>Y</td>\n",
       "    </tr>\n",
       "    <tr>\n",
       "      <th>1</th>\n",
       "      <td>LP001022</td>\n",
       "      <td>Y</td>\n",
       "    </tr>\n",
       "    <tr>\n",
       "      <th>2</th>\n",
       "      <td>LP001031</td>\n",
       "      <td>Y</td>\n",
       "    </tr>\n",
       "    <tr>\n",
       "      <th>3</th>\n",
       "      <td>LP001035</td>\n",
       "      <td>N</td>\n",
       "    </tr>\n",
       "    <tr>\n",
       "      <th>4</th>\n",
       "      <td>LP001051</td>\n",
       "      <td>N</td>\n",
       "    </tr>\n",
       "  </tbody>\n",
       "</table>\n",
       "</div>"
      ],
      "text/plain": [
       "    Loan_ID Loan_Status\n",
       "0  LP001015           Y\n",
       "1  LP001022           Y\n",
       "2  LP001031           Y\n",
       "3  LP001035           N\n",
       "4  LP001051           N"
      ]
     },
     "execution_count": 41,
     "metadata": {},
     "output_type": "execute_result"
    }
   ],
   "source": [
    "result[\"Loan_Status\"] = result[\"Loan_Status\"].astype(str).str.replace(\"0\",\"N\")\n",
    "result[\"Loan_Status\"] = result[\"Loan_Status\"].astype(str).str.replace(\"1\",\"Y\")\n",
    "result.head()"
   ]
  },
  {
   "cell_type": "code",
   "execution_count": 42,
   "id": "cc1c86c4-6535-435a-9d0e-f7f59eb99ac6",
   "metadata": {},
   "outputs": [
    {
     "data": {
      "text/html": [
       "<div>\n",
       "<style scoped>\n",
       "    .dataframe tbody tr th:only-of-type {\n",
       "        vertical-align: middle;\n",
       "    }\n",
       "\n",
       "    .dataframe tbody tr th {\n",
       "        vertical-align: top;\n",
       "    }\n",
       "\n",
       "    .dataframe thead th {\n",
       "        text-align: right;\n",
       "    }\n",
       "</style>\n",
       "<table border=\"1\" class=\"dataframe\">\n",
       "  <thead>\n",
       "    <tr style=\"text-align: right;\">\n",
       "      <th></th>\n",
       "      <th>Loan_Status</th>\n",
       "    </tr>\n",
       "    <tr>\n",
       "      <th>Loan_ID</th>\n",
       "      <th></th>\n",
       "    </tr>\n",
       "  </thead>\n",
       "  <tbody>\n",
       "    <tr>\n",
       "      <th>LP001015</th>\n",
       "      <td>Y</td>\n",
       "    </tr>\n",
       "    <tr>\n",
       "      <th>LP001022</th>\n",
       "      <td>Y</td>\n",
       "    </tr>\n",
       "    <tr>\n",
       "      <th>LP001031</th>\n",
       "      <td>Y</td>\n",
       "    </tr>\n",
       "    <tr>\n",
       "      <th>LP001035</th>\n",
       "      <td>N</td>\n",
       "    </tr>\n",
       "    <tr>\n",
       "      <th>LP001051</th>\n",
       "      <td>N</td>\n",
       "    </tr>\n",
       "  </tbody>\n",
       "</table>\n",
       "</div>"
      ],
      "text/plain": [
       "         Loan_Status\n",
       "Loan_ID             \n",
       "LP001015           Y\n",
       "LP001022           Y\n",
       "LP001031           Y\n",
       "LP001035           N\n",
       "LP001051           N"
      ]
     },
     "execution_count": 42,
     "metadata": {},
     "output_type": "execute_result"
    }
   ],
   "source": [
    "result = result.set_index(['Loan_ID'])\n",
    "result.head()"
   ]
  },
  {
   "cell_type": "code",
   "execution_count": 45,
   "id": "f8cdd8b5-21a2-4747-a4a1-024cfcae7f5a",
   "metadata": {},
   "outputs": [],
   "source": [
    "result.to_csv(\"Results_of_Test.csv\")"
   ]
  },
  {
   "cell_type": "markdown",
   "id": "b69e210f-9cb2-46eb-91f8-3db0d9756ab1",
   "metadata": {},
   "source": [
    "<div style=\"color:white;display:fill;border-radius:8px;\n",
    "            background-color:#03112A;font-size:150%;\n",
    "            letter-spacing:1.0px\">\n",
    "    <p style=\"padding: 8px;color:white;\"><b><b><span style='color:#FFFFFF'></span></b> 9. Exporting The Model </b></p>\n",
    "</div>"
   ]
  },
  {
   "cell_type": "code",
   "execution_count": 14,
   "id": "3882cb71-4650-45ab-b0ae-12bc7884189a",
   "metadata": {},
   "outputs": [],
   "source": [
    "import streamlit as st\n",
    "import joblib"
   ]
  },
  {
   "cell_type": "code",
   "execution_count": 15,
   "id": "15d08740-fd2b-4434-a904-2d368496726b",
   "metadata": {},
   "outputs": [
    {
     "data": {
      "text/plain": [
       "['model.joblib']"
      ]
     },
     "execution_count": 15,
     "metadata": {},
     "output_type": "execute_result"
    }
   ],
   "source": [
    "import joblib\n",
    "\n",
    "# Assuming 'rf_classifier' is the model you want to save\n",
    "joblib.dump(rf_classifier, 'model.joblib')\n",
    "\n"
   ]
  },
  {
   "cell_type": "code",
   "execution_count": null,
   "id": "33a7b963",
   "metadata": {},
   "outputs": [],
   "source": []
  },
  {
   "cell_type": "code",
   "execution_count": null,
   "id": "15a9fa49",
   "metadata": {},
   "outputs": [],
   "source": []
  }
 ],
 "metadata": {
  "kernelspec": {
   "display_name": "Python 3",
   "language": "python",
   "name": "python3"
  },
  "language_info": {
   "codemirror_mode": {
    "name": "ipython",
    "version": 3
   },
   "file_extension": ".py",
   "mimetype": "text/x-python",
   "name": "python",
   "nbconvert_exporter": "python",
   "pygments_lexer": "ipython3",
   "version": "3.11.5"
  }
 },
 "nbformat": 4,
 "nbformat_minor": 5
}
